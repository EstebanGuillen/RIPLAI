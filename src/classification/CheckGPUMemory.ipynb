{
 "cells": [
  {
   "cell_type": "code",
   "execution_count": 14,
   "metadata": {},
   "outputs": [
    {
     "name": "stdout",
     "output_type": "stream",
     "text": [
      "Tue Mar 17 21:51:32 2020       \r\n",
      "+-----------------------------------------------------------------------------+\r\n",
      "| NVIDIA-SMI 430.50       Driver Version: 430.50       CUDA Version: 10.1     |\r\n",
      "|-------------------------------+----------------------+----------------------+\r\n",
      "| GPU  Name        Persistence-M| Bus-Id        Disp.A | Volatile Uncorr. ECC |\r\n",
      "| Fan  Temp  Perf  Pwr:Usage/Cap|         Memory-Usage | GPU-Util  Compute M. |\r\n",
      "|===============================+======================+======================|\r\n",
      "|   0  GeForce GTX 108...  Off  | 00000000:17:00.0 Off |                  N/A |\r\n",
      "| 70%   85C    P2   178W / 250W |   9933MiB / 11178MiB |    100%      Default |\r\n",
      "+-------------------------------+----------------------+----------------------+\r\n",
      "|   1  GeForce GTX 108...  Off  | 00000000:65:00.0  On |                  N/A |\r\n",
      "| 79%   87C    P2   185W / 250W |   8868MiB / 11175MiB |    100%      Default |\r\n",
      "+-------------------------------+----------------------+----------------------+\r\n",
      "                                                                               \r\n",
      "+-----------------------------------------------------------------------------+\r\n",
      "| Processes:                                                       GPU Memory |\r\n",
      "|  GPU       PID   Type   Process name                             Usage      |\r\n",
      "|=============================================================================|\r\n",
      "|    0      1594      C   /home/HEALTH/ejguillen/venv/bin/python       135MiB |\r\n",
      "|    0      3177      C   /home/HEALTH/ejguillen/venv/bin/python       135MiB |\r\n",
      "|    0     16358      C   ...uillen/anaconda3/envs/fastai/bin/python  9651MiB |\r\n",
      "|    1      1413      G   /usr/lib/xorg/Xorg                            69MiB |\r\n",
      "|    1      1594      C   /home/HEALTH/ejguillen/venv/bin/python       135MiB |\r\n",
      "|    1      3177      C   /home/HEALTH/ejguillen/venv/bin/python       135MiB |\r\n",
      "|    1      7401      G   /usr/bin/gnome-shell                          14MiB |\r\n",
      "|    1     16358      C   ...uillen/anaconda3/envs/fastai/bin/python  8503MiB |\r\n",
      "+-----------------------------------------------------------------------------+\r\n"
     ]
    }
   ],
   "source": [
    "!nvidia-smi"
   ]
  },
  {
   "cell_type": "code",
   "execution_count": null,
   "metadata": {},
   "outputs": [],
   "source": []
  },
  {
   "cell_type": "code",
   "execution_count": null,
   "metadata": {},
   "outputs": [],
   "source": []
  }
 ],
 "metadata": {
  "kernelspec": {
   "display_name": "tf2.1-conda",
   "language": "python",
   "name": "tf2.1-conda"
  },
  "language_info": {
   "codemirror_mode": {
    "name": "ipython",
    "version": 3
   },
   "file_extension": ".py",
   "mimetype": "text/x-python",
   "name": "python",
   "nbconvert_exporter": "python",
   "pygments_lexer": "ipython3",
   "version": "3.7.6"
  }
 },
 "nbformat": 4,
 "nbformat_minor": 4
}
