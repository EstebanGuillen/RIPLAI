{
 "cells": [
  {
   "cell_type": "code",
   "execution_count": null,
   "metadata": {},
   "outputs": [],
   "source": []
  },
  {
   "cell_type": "code",
   "execution_count": 1,
   "metadata": {},
   "outputs": [],
   "source": [
    "from __future__ import absolute_import, division, print_function, unicode_literals\n",
    "import tensorflow as tf\n",
    "from tensorflow import keras\n",
    "from tensorflow.keras import layers, models, Model\n",
    "from tensorflow.keras.mixed_precision import experimental as mixed_precision\n",
    "import pandas as pd\n",
    "from tensorflow.keras.callbacks import Callback\n",
    "\n",
    "import IPython.display as display\n",
    "from PIL import Image\n",
    "import numpy as np\n",
    "import matplotlib.pyplot as plt\n",
    "import os\n",
    "import pathlib\n",
    "\n",
    "import tensorflow.keras.applications\n",
    "\n",
    "from pathlib import Path\n",
    "\n",
    "#from tf_explain.core.grad_cam import GradCAM\n",
    "\n",
    "import cv2\n",
    "\n",
    "import math\n",
    "import warnings\n",
    "from tensorflow.keras.preprocessing.image import ImageDataGenerator\n",
    "\n",
    "from tensorflow.keras.applications import DenseNet121,DenseNet169,  \\\n",
    "                                          DenseNet201,InceptionResNetV2,  \\\n",
    "                                          InceptionV3,MobileNet,MobileNetV2,  \\\n",
    "                                          NASNetLarge,NASNetMobile,ResNet101,  \\\n",
    "                                          ResNet101V2,ResNet152,ResNet152V2,  \\\n",
    "                                          ResNet50,ResNet50V2,VGG16,VGG19,Xception \n",
    "\n",
    "from tensorflow.keras.metrics import Accuracy, Precision, Recall, \\\n",
    "                                     FalsePositives, FalsePositives, \\\n",
    "                                     TruePositives, TrueNegatives\n",
    "\n",
    "from datetime import datetime\n",
    "import sys\n",
    "\n",
    "IMG_HEIGHT = 512\n",
    "IMG_WIDTH = 512\n",
    "EPOCHS = 6\n",
    "\n",
    "CHANNELS =3\n",
    "IMG_SHAPE = (IMG_HEIGHT, IMG_WIDTH, CHANNELS)\n",
    "\n",
    "FILTER_SIZE = 3\n",
    "\n",
    "lrs = [('6e-4',6e-4), ('1e-3',1e-3), ('6e-3',6e-3)]\n",
    "batch_sizes = [('8',8),('16',16)]\n",
    "BATCH_SIZE = batch_sizes[0][1]\n",
    "optimizers = ['Adam', 'Nadam', 'SGD']\n",
    "opt = 'Adam'\n",
    "\n",
    "l = lrs[1]\n",
    "lr = l[1]\n",
    "\n",
    "mode = 'mixed'\n",
    "one_hot = 'one_hot'\n",
    "from_logits = True\n",
    "activation = \"softmax\"\n",
    "\n",
    "output_nodes = 2\n",
    "\n",
    "selected_gpu = 1\n",
    "\n",
    "losses = ['Binary', 'Categorical']\n",
    "\n",
    "loss = losses[1]\n",
    "\n"
   ]
  },
  {
   "cell_type": "code",
   "execution_count": 2,
   "metadata": {},
   "outputs": [],
   "source": [
    "gpus = tf.config.experimental.list_physical_devices('GPU')\n",
    "\n",
    "tf.config.experimental.set_visible_devices(gpus[selected_gpu], 'GPU')"
   ]
  },
  {
   "cell_type": "code",
   "execution_count": 3,
   "metadata": {},
   "outputs": [],
   "source": [
    "if mode == 'mixed':\n",
    "    policy = mixed_precision.Policy('mixed_float16')\n",
    "    mixed_precision.set_policy(policy)"
   ]
  },
  {
   "cell_type": "code",
   "execution_count": 4,
   "metadata": {},
   "outputs": [],
   "source": [
    "'''metrics=[tf.keras.metrics.CategoricalAccuracy(),\n",
    "         tf.keras.metrics.Precision(),\n",
    "         tf.keras.metrics.Recall(),\n",
    "         tf.keras.metrics.FalsePositives(),\n",
    "         tf.keras.metrics.FalseNegatives(),\n",
    "         tf.keras.metrics.TruePositives(),\n",
    "         tf.keras.metrics.TrueNegatives()] ''' \n",
    "metrics = ['accuracy']"
   ]
  },
  {
   "cell_type": "code",
   "execution_count": 5,
   "metadata": {},
   "outputs": [],
   "source": [
    "\"\"\"\n",
    "Module for Image Save\n",
    "\"\"\"\n",
    "\n",
    "\n",
    "def save_grayscale(image, output_dir, output_name):\n",
    "    \"\"\"\n",
    "    Save a 3D Numpy array (H, W, 1) as an image.\n",
    "    Args:\n",
    "        image (numpy.ndarray): Image to save\n",
    "        output_dir (str): Output directory\n",
    "        output_name (str): Output name\n",
    "    \"\"\"\n",
    "    Path.mkdir(Path(output_dir), parents=True, exist_ok=True)\n",
    "\n",
    "    cv2.imwrite(str(Path(output_dir) / output_name), image)\n",
    "\n",
    "\n",
    "def save_rgb(image, output_dir, output_name):\n",
    "    \"\"\"\n",
    "    Save a 3D Numpy array (H, W, 3) as an image.\n",
    "    Args:\n",
    "        image (numpy.ndarray): Image to save\n",
    "        output_dir (str): Output directory\n",
    "        output_name (str): Output name\n",
    "    \"\"\"\n",
    "    Path.mkdir(Path(output_dir), parents=True, exist_ok=True)\n",
    "\n",
    "    cv2.imwrite(\n",
    "        str(Path(output_dir) / output_name), cv2.cvtColor(image, cv2.COLOR_RGB2BGR)\n",
    "    )"
   ]
  },
  {
   "cell_type": "code",
   "execution_count": 6,
   "metadata": {},
   "outputs": [],
   "source": [
    "def grid_display(array, num_rows=None, num_columns=None):\n",
    "    \"\"\"\n",
    "    Display a list of images as a grid.\n",
    "    Args:\n",
    "        array (numpy.ndarray): 4D Tensor (batch_size, height, width, channels)\n",
    "    Returns:\n",
    "        numpy.ndarray: 3D Tensor as concatenation of input images on a grid\n",
    "    \"\"\"\n",
    "    if num_rows is not None and num_columns is not None:\n",
    "        total_grid_size = num_rows * num_columns\n",
    "        if total_grid_size < len(array):\n",
    "            warnings.warn(\n",
    "                Warning(\n",
    "                    \"Given values for num_rows and num_columns doesn't allow to display \"\n",
    "                    \"all images. Values have been overrided to respect at least num_columns\"\n",
    "                )\n",
    "            )\n",
    "            num_rows = math.ceil(len(array) / num_columns)\n",
    "    elif num_rows is not None:\n",
    "        num_columns = math.ceil(len(array) / num_rows)\n",
    "    elif num_columns is not None:\n",
    "        num_rows = math.ceil(len(array) / num_columns)\n",
    "    else:\n",
    "        num_rows = math.ceil(math.sqrt(len(array)))\n",
    "        num_columns = math.ceil(math.sqrt(len(array)))\n",
    "\n",
    "    number_of_missing_elements = num_columns * num_rows - len(array)\n",
    "    # We fill the array with np.zeros elements to obtain a perfect square\n",
    "    array = np.append(\n",
    "        array,\n",
    "        np.zeros((number_of_missing_elements, *array[0].shape)).astype(array.dtype),\n",
    "        axis=0,\n",
    "    )\n",
    "\n",
    "    grid = np.concatenate(\n",
    "        [\n",
    "            np.concatenate(\n",
    "                array[index * num_columns : (index + 1) * num_columns], axis=1\n",
    "            )\n",
    "            for index in range(num_rows)\n",
    "        ],\n",
    "        axis=0,\n",
    "    )\n",
    "\n",
    "    return grid\n",
    "\n",
    "\n",
    "def filter_display(array, num_rows=None, num_columns=None):\n",
    "    \"\"\"\n",
    "    Display a list of filter outputs as a greyscale images grid.\n",
    "    Args:\n",
    "        array (numpy.ndarray): 4D Tensor (batch_size, height, width, channels)\n",
    "    Returns:\n",
    "        numpy.ndarray: 3D Tensor as concatenation of input images on a grid\n",
    "    \"\"\"\n",
    "    return grid_display(\n",
    "        np.concatenate(np.rollaxis(array, 3, 1), axis=0), num_rows, num_columns\n",
    "    )\n",
    "\n",
    "\n",
    "def image_to_uint_255(image):\n",
    "    \"\"\"\n",
    "    Convert float images to int 0-255 images.\n",
    "    Args:\n",
    "        image (numpy.ndarray): Input image. Can be either [0, 255], [0, 1], [-1, 1]\n",
    "    Returns:\n",
    "        numpy.ndarray:\n",
    "    \"\"\"\n",
    "    if image.dtype == np.uint8:\n",
    "        return image\n",
    "\n",
    "    if image.min() < 0:\n",
    "        image = (image + 1.0) / 2.0\n",
    "\n",
    "    return (image * 255).astype(\"uint8\")\n",
    "\n",
    "\n",
    "def heatmap_display(\n",
    "    heatmap, original_image, colormap=cv2.COLORMAP_VIRIDIS, image_weight=0.7\n",
    "):\n",
    "    \"\"\"\n",
    "    Apply a heatmap (as an np.ndarray) on top of an original image.\n",
    "    Args:\n",
    "        heatmap (numpy.ndarray): Array corresponding to the heatmap\n",
    "        original_image (numpy.ndarray): Image on which we apply the heatmap\n",
    "        colormap (int): OpenCV Colormap to use for heatmap visualization\n",
    "        image_weight (float): An optional `float` value in range [0,1] indicating the weight of\n",
    "            the input image to be overlaying the calculated attribution maps. Defaults to `0.7`\n",
    "    Returns:\n",
    "        np.ndarray: Original image with heatmap applied\n",
    "    \"\"\"\n",
    "    heatmap = cv2.resize(heatmap, (original_image.shape[1], original_image.shape[0]))\n",
    "\n",
    "    image = image_to_uint_255(original_image)\n",
    "\n",
    "    epsilon = 0.0\n",
    "    if (heatmap.max() - heatmap.min()) == 0:\n",
    "        epsilon = sys.float_info.epsilon\n",
    "        \n",
    "    \n",
    "    heatmap = (heatmap - np.min(heatmap)) / (heatmap.max() - heatmap.min() + epsilon)\n",
    "\n",
    "    heatmap = cv2.applyColorMap(\n",
    "        cv2.cvtColor((heatmap * 255).astype(\"uint8\"), cv2.COLOR_GRAY2BGR), colormap\n",
    "    )\n",
    "\n",
    "    output = cv2.addWeighted(\n",
    "        cv2.cvtColor(image, cv2.COLOR_RGB2BGR), image_weight, heatmap, 1, 0\n",
    "    )\n",
    "\n",
    "    return cv2.cvtColor(output, cv2.COLOR_BGR2RGB)"
   ]
  },
  {
   "cell_type": "code",
   "execution_count": 7,
   "metadata": {},
   "outputs": [],
   "source": [
    "\"\"\"\n",
    "Core Module for Grad CAM Algorithm\n",
    "\"\"\"\n",
    "\n",
    "class GradCAM:\n",
    "\n",
    "    \"\"\"\n",
    "    Perform Grad CAM algorithm for a given input\n",
    "    Paper: [Grad-CAM: Visual Explanations from Deep Networks\n",
    "            via Gradient-based Localization](https://arxiv.org/abs/1610.02391)\n",
    "    \"\"\"\n",
    "\n",
    "    def explain(\n",
    "        self,\n",
    "        validation_data,\n",
    "        model,\n",
    "        class_index,\n",
    "        layer_name=None,\n",
    "        colormap=cv2.COLORMAP_VIRIDIS,\n",
    "        image_weight=0.7,\n",
    "    ):\n",
    "        \"\"\"\n",
    "        Compute GradCAM for a specific class index.\n",
    "        Args:\n",
    "            validation_data (Tuple[np.ndarray, Optional[np.ndarray]]): Validation data\n",
    "                to perform the method on. Tuple containing (x, y).\n",
    "            model (tf.keras.Model): tf.keras model to inspect\n",
    "            class_index (int): Index of targeted class\n",
    "            layer_name (str): Targeted layer for GradCAM. If no layer is provided, it is\n",
    "                automatically infered from the model architecture.\n",
    "            colormap (int): OpenCV Colormap to use for heatmap visualization\n",
    "            image_weight (float): An optional `float` value in range [0,1] indicating the weight of\n",
    "                the input image to be overlaying the calculated attribution maps. Defaults to `0.7`.\n",
    "        Returns:\n",
    "            numpy.ndarray: Grid of all the GradCAM\n",
    "        \"\"\"\n",
    "        images, _ = validation_data\n",
    "\n",
    "        if layer_name is None:\n",
    "            layer_name = self.infer_grad_cam_target_layer(model)\n",
    "\n",
    "        outputs, guided_grads = GradCAM.get_gradients_and_filters(\n",
    "            model, images, layer_name, class_index\n",
    "        )\n",
    "\n",
    "        cams = GradCAM.generate_ponderated_output(outputs, guided_grads)\n",
    "\n",
    "        heatmaps = np.array(\n",
    "            [\n",
    "                # not showing the actual image if image_weight=0\n",
    "                heatmap_display(cam.numpy(), image, colormap, image_weight)\n",
    "                for cam, image in zip(cams, images)\n",
    "            ]\n",
    "        )\n",
    "\n",
    "        grid = grid_display(heatmaps)\n",
    "\n",
    "        return grid\n",
    "\n",
    "    @staticmethod\n",
    "    def infer_grad_cam_target_layer(model):\n",
    "        \"\"\"\n",
    "        Search for the last convolutional layer to perform Grad CAM, as stated\n",
    "        in the original paper.\n",
    "        Args:\n",
    "            model (tf.keras.Model): tf.keras model to inspect\n",
    "        Returns:\n",
    "            str: Name of the target layer\n",
    "        \"\"\"\n",
    "        for layer in reversed(model.layers):\n",
    "            # Select closest 4D layer to the end of the network.\n",
    "            if len(layer.output_shape) == 4:\n",
    "                print(layer.name)\n",
    "                return layer.name\n",
    "\n",
    "        raise ValueError(\n",
    "            \"Model does not seem to contain 4D layer. Grad CAM cannot be applied.\"\n",
    "        )\n",
    "\n",
    "    @staticmethod\n",
    "    @tf.function\n",
    "    def get_gradients_and_filters(model, images, layer_name, class_index):\n",
    "        \"\"\"\n",
    "        Generate guided gradients and convolutional outputs with an inference.\n",
    "        Args:\n",
    "            model (tf.keras.Model): tf.keras model to inspect\n",
    "            images (numpy.ndarray): 4D-Tensor with shape (batch_size, H, W, 3)\n",
    "            layer_name (str): Targeted layer for GradCAM\n",
    "            class_index (int): Index of targeted class\n",
    "        Returns:\n",
    "            Tuple[tf.Tensor, tf.Tensor]: (Target layer outputs, Guided gradients)\n",
    "        \"\"\"\n",
    "        grad_model = tf.keras.models.Model(\n",
    "            [model.inputs], [model.get_layer(layer_name).output, model.output]\n",
    "        )\n",
    "\n",
    "        with tf.GradientTape() as tape:\n",
    "            inputs = tf.cast(images, tf.float32)\n",
    "            conv_outputs, predictions = grad_model(inputs)\n",
    "            loss = predictions[:, class_index]\n",
    "\n",
    "        grads = tape.gradient(loss, conv_outputs)\n",
    "        \n",
    "\n",
    "        guided_grads = (\n",
    "            tf.cast(conv_outputs > 0, \"float32\") * tf.cast(grads > 0, \"float32\") * tf.cast(grads,\"float32\")\n",
    "        )\n",
    "\n",
    "        return conv_outputs, guided_grads\n",
    "\n",
    "    @staticmethod\n",
    "    def generate_ponderated_output(outputs, grads):\n",
    "        \"\"\"\n",
    "        Apply Grad CAM algorithm scheme.\n",
    "        Inputs are the convolutional outputs (shape WxHxN) and gradients (shape WxHxN).\n",
    "        From there:\n",
    "            - we compute the spatial average of the gradients\n",
    "            - we build a ponderated sum of the convolutional outputs based on those averaged weights\n",
    "        Args:\n",
    "            output (tf.Tensor): Target layer outputs, with shape (batch_size, Hl, Wl, Nf),\n",
    "                where Hl and Wl are the target layer output height and width, and Nf the\n",
    "                number of filters.\n",
    "            grads (tf.Tensor): Guided gradients with shape (batch_size, Hl, Wl, Nf)\n",
    "        Returns:\n",
    "            List[tf.Tensor]: List of ponderated output of shape (batch_size, Hl, Wl, 1)\n",
    "        \"\"\"\n",
    "\n",
    "        maps = [\n",
    "            GradCAM.ponderate_output(output, grad)\n",
    "            for output, grad in zip(outputs, grads)\n",
    "        ]\n",
    "\n",
    "        return maps\n",
    "\n",
    "    @staticmethod\n",
    "    def ponderate_output(output, grad):\n",
    "        \"\"\"\n",
    "        Perform the ponderation of filters output with respect to average of gradients values.\n",
    "        Args:\n",
    "            output (tf.Tensor): Target layer outputs, with shape (Hl, Wl, Nf),\n",
    "                where Hl and Wl are the target layer output height and width, and Nf the\n",
    "                number of filters.\n",
    "            grads (tf.Tensor): Guided gradients with shape (Hl, Wl, Nf)\n",
    "        Returns:\n",
    "            tf.Tensor: Ponderated output of shape (Hl, Wl, 1)\n",
    "        \"\"\"\n",
    "        weights = tf.reduce_mean(grad, axis=(0, 1))\n",
    "\n",
    "        # Perform ponderated sum : w_i * output[:, :, i]\n",
    "        cam = tf.reduce_sum(tf.multiply(tf.cast(weights,\"float32\"), tf.cast(output,'float32') ), axis=-1)\n",
    "\n",
    "        return cam\n",
    "\n",
    "    def save(self, grid, output_dir, output_name):\n",
    "        \"\"\"\n",
    "        Save the output to a specific dir.\n",
    "        Args:\n",
    "            grid (numpy.ndarray): Grid of all the heatmaps\n",
    "            output_dir (str): Output directory path\n",
    "            output_name (str): Output name\n",
    "        \"\"\"\n",
    "        save_rgb(grid, output_dir, output_name)\n"
   ]
  },
  {
   "cell_type": "code",
   "execution_count": null,
   "metadata": {},
   "outputs": [],
   "source": []
  },
  {
   "cell_type": "code",
   "execution_count": null,
   "metadata": {},
   "outputs": [],
   "source": []
  },
  {
   "cell_type": "code",
   "execution_count": 8,
   "metadata": {},
   "outputs": [],
   "source": [
    "train_df = pd.read_csv(\"./train-one-hot.csv\")\n",
    "#train_df.head()"
   ]
  },
  {
   "cell_type": "code",
   "execution_count": 9,
   "metadata": {},
   "outputs": [],
   "source": [
    "#reduce training set for quick iteration debugging\n",
    "#train_df = train_df.head(50)"
   ]
  },
  {
   "cell_type": "code",
   "execution_count": 10,
   "metadata": {},
   "outputs": [],
   "source": [
    "valid_df = pd.read_csv(\"./val-one-hot.csv\")\n",
    "#valid_df.head(25)"
   ]
  },
  {
   "cell_type": "code",
   "execution_count": null,
   "metadata": {},
   "outputs": [],
   "source": []
  },
  {
   "cell_type": "code",
   "execution_count": 11,
   "metadata": {},
   "outputs": [],
   "source": [
    "#valid_df.tail(100)"
   ]
  },
  {
   "cell_type": "code",
   "execution_count": 12,
   "metadata": {},
   "outputs": [],
   "source": [
    "test_df = pd.read_csv(\"./test-one-hot.csv\")\n",
    "#test_df.head()"
   ]
  },
  {
   "cell_type": "code",
   "execution_count": 13,
   "metadata": {},
   "outputs": [],
   "source": [
    "y_test = test_df['fracture'].values"
   ]
  },
  {
   "cell_type": "code",
   "execution_count": 14,
   "metadata": {},
   "outputs": [],
   "source": [
    "#y_test"
   ]
  },
  {
   "cell_type": "code",
   "execution_count": 15,
   "metadata": {},
   "outputs": [],
   "source": [
    "architecture = ('DenseNet201', \n",
    "                DenseNet201(input_shape=IMG_SHAPE,include_top=False,weights='imagenet'),\n",
    "               'conv2_block1_1_conv',\n",
    "               'conv5_block32_2_conv')"
   ]
  },
  {
   "cell_type": "code",
   "execution_count": 16,
   "metadata": {},
   "outputs": [],
   "source": [
    "labels = ['normal','fracture']"
   ]
  },
  {
   "cell_type": "code",
   "execution_count": 17,
   "metadata": {},
   "outputs": [],
   "source": [
    "def get_train_generator(df, image_dir, x_col, y_cols, shuffle=True, batch_size=8, target_w = 512, target_h = 512):\n",
    "       \n",
    "    print(\"getting train generator...\") \n",
    "    # normalize images\n",
    "    image_generator = ImageDataGenerator(\n",
    "        #horizontal_flip=True,\n",
    "        #vertical_flip=True,\n",
    "        #rotation_range=180,\n",
    "        #height_shift_range=[-10,10],\n",
    "        #width_shift_range=[-10,10],\n",
    "        rescale=1./255)\n",
    "    \n",
    "    # flow from directory with specified batch size\n",
    "    # and target image size\n",
    "    generator = image_generator.flow_from_dataframe(\n",
    "            dataframe=df,\n",
    "            directory=image_dir,\n",
    "            x_col=x_col,\n",
    "            y_col=y_cols,\n",
    "            class_mode=\"raw\",\n",
    "            batch_size=batch_size,\n",
    "            shuffle=shuffle,\n",
    "            target_size=(target_w,target_h))\n",
    "    \n",
    "    return generator"
   ]
  },
  {
   "cell_type": "code",
   "execution_count": 18,
   "metadata": {},
   "outputs": [],
   "source": [
    "def get_test_and_valid_generator(valid_df, test_df, train_df, image_dir, x_col, y_cols, batch_size=8, target_w = 512, target_h = 512):\n",
    "    \n",
    "    print(\"getting test and valid generators...\")\n",
    "    \n",
    "\n",
    "    # use sample to fit mean and std for test set generator\n",
    "    image_generator = ImageDataGenerator(\n",
    "       rescale=1./255)\n",
    "    \n",
    "    \n",
    "\n",
    "    # get test generator\n",
    "    valid_generator = image_generator.flow_from_dataframe(\n",
    "            dataframe=valid_df,\n",
    "            directory=image_dir,\n",
    "            x_col=x_col,\n",
    "            y_col=y_cols,\n",
    "            class_mode=\"raw\",\n",
    "            batch_size=batch_size,\n",
    "            shuffle=False,\n",
    "            target_size=(target_w,target_h))\n",
    "\n",
    "    test_generator = image_generator.flow_from_dataframe(\n",
    "            dataframe=test_df,\n",
    "            directory=image_dir,\n",
    "            x_col=x_col,\n",
    "            y_col=y_cols,\n",
    "            class_mode=\"raw\",\n",
    "            batch_size=batch_size,\n",
    "            shuffle=False,\n",
    "            target_size=(target_w,target_h))\n",
    "    return valid_generator, test_generator"
   ]
  },
  {
   "cell_type": "code",
   "execution_count": 19,
   "metadata": {},
   "outputs": [
    {
     "name": "stdout",
     "output_type": "stream",
     "text": [
      "getting train generator...\n",
      "Found 7063 validated image filenames.\n",
      "getting test and valid generators...\n",
      "Found 882 validated image filenames.\n",
      "Found 882 validated image filenames.\n"
     ]
    }
   ],
   "source": [
    "IMAGE_DIR = \"/opt/AIStorage/PLAYGROUND/images/512/filtered/all_images\"\n",
    "train_generator = get_train_generator(train_df, IMAGE_DIR, \"image\", labels, batch_size=BATCH_SIZE)\n",
    "valid_generator, test_generator= get_test_and_valid_generator(valid_df, test_df, train_df, IMAGE_DIR, \"image\", labels, batch_size=BATCH_SIZE)"
   ]
  },
  {
   "cell_type": "code",
   "execution_count": 20,
   "metadata": {},
   "outputs": [],
   "source": [
    "batch = valid_generator.next()"
   ]
  },
  {
   "cell_type": "code",
   "execution_count": 21,
   "metadata": {},
   "outputs": [
    {
     "data": {
      "text/plain": [
       "(8, 2)"
      ]
     },
     "execution_count": 21,
     "metadata": {},
     "output_type": "execute_result"
    }
   ],
   "source": [
    "batch[1].shape"
   ]
  },
  {
   "cell_type": "code",
   "execution_count": 22,
   "metadata": {},
   "outputs": [],
   "source": [
    "def create_model():\n",
    "    base_model_x = None\n",
    "    model_x=None\n",
    "    \n",
    "    base_model_x = architecture[1]\n",
    "    \n",
    "    #base_model.trainable = False\n",
    "        \n",
    "    for layer in base_model_x.layers:\n",
    "        if layer.name.endswith('bn'):\n",
    "            layer.trainable = True\n",
    "        else:\n",
    "            layer.trainable = False\n",
    "                \n",
    "    x = base_model_x.output\n",
    "        \n",
    "    x = tf.keras.layers.GlobalAveragePooling2D()(x)\n",
    "        \n",
    "    x = tf.keras.layers.BatchNormalization()(x)\n",
    "    x = tf.keras.layers.Dropout(0.4)(x)\n",
    "    x = tf.keras.layers.Dense(512,activation='relu')(x)\n",
    "        \n",
    "    x = tf.keras.layers.BatchNormalization()(x)\n",
    "    x = tf.keras.layers.Dropout(0.5)(x)\n",
    "    #predictions = tf.keras.layers.Dense(output_nodes, activation=activation, dtype=tf.float32)(x)\n",
    "    \n",
    "    x = layers.Dense(output_nodes, name='dense_logits')(x)\n",
    "    predictions = layers.Activation('softmax', dtype='float32', name='predictions')(x)\n",
    "        \n",
    "    model_x = Model(inputs=base_model_x.input,outputs=predictions)\n",
    "    \n",
    "    return model_x\n",
    "    "
   ]
  },
  {
   "cell_type": "code",
   "execution_count": null,
   "metadata": {},
   "outputs": [],
   "source": []
  },
  {
   "cell_type": "code",
   "execution_count": 23,
   "metadata": {},
   "outputs": [],
   "source": [
    "valid_examples = [ ('2.25.312225116666381863237801067474791146955.png',0),\n",
    "                   ('2.25.331215779585395792556605116028426521840.png',0),\n",
    "                   ('2.25.294885570448455301317418340729685335337.png',1),\n",
    "                   ('2.25.29996689003180237805319604864278729987.png',1),\n",
    "                   ('2.25.77133591367680957046388157253278169022.png',1)]"
   ]
  },
  {
   "cell_type": "code",
   "execution_count": null,
   "metadata": {},
   "outputs": [],
   "source": []
  },
  {
   "cell_type": "code",
   "execution_count": 24,
   "metadata": {},
   "outputs": [],
   "source": [
    "layer_names = [architecture[2], architecture[3]]\n",
    "indexes = [0,1]"
   ]
  },
  {
   "cell_type": "code",
   "execution_count": 25,
   "metadata": {},
   "outputs": [],
   "source": [
    "class SaveGradCAMCallback(Callback):\n",
    "    \n",
    "    def __init__(\n",
    "        self,\n",
    "        output_dir=None,\n",
    "        layer_names=None,\n",
    "        examples=None,\n",
    "        indexes=None\n",
    "    ):\n",
    "        super(SaveGradCAMCallback,self).__init__()\n",
    "        self.output_dir = output_dir\n",
    "        self.layer_names = layer_names\n",
    "        self.examples = examples\n",
    "        self.indexes = indexes\n",
    "        \n",
    "    def on_epoch_end(self, epoch, logs=None):\n",
    "       \n",
    "        \n",
    "        #self.model.save_weights(str(self.output_dir) + '/saved_models')\n",
    "        \n",
    "        #policy = mixed_precision.Policy('float32')\n",
    "        \n",
    "        #mixed_precision.set_policy(policy)\n",
    "        \n",
    "        \n",
    "        #saved_model = create_model()\n",
    "        \n",
    "        saved_model = self.model\n",
    "        \n",
    "        #saved_model.load_weights(str(self.output_dir) + '/saved_models').expect_partial()\n",
    "        \n",
    "        \n",
    "        \n",
    "        for example in self.examples:\n",
    "            for layer_name in self.layer_names:\n",
    "                for index in self.indexes:\n",
    "                    IMAGE_PATH = IMAGE_DIR + '/' + example[0]\n",
    "        \n",
    "                    img = tf.keras.preprocessing.image.load_img(IMAGE_PATH, target_size=(512, 512))\n",
    "                    img = tf.keras.preprocessing.image.img_to_array(img)\n",
    "\n",
    "                    img = img/255.0\n",
    "\n",
    "                    data = ([img], None)\n",
    "\n",
    "                    explainer = GradCAM()\n",
    "                    \n",
    "                    grid = explainer.explain(data, saved_model, class_index=index, image_weight=0.75, layer_name=layer_name)\n",
    "    \n",
    "                    file_id = example[0][:-4]\n",
    "                    save_name = file_id + '--' + str(epoch) + '--' + layer_name + '-- ' + str(index) + '.png'\n",
    "                    \n",
    "                    save_location = self.output_dir / file_id / layer_name / str(index)\n",
    "                    #explainer.save(grid, self.output_dir, save_name)\n",
    "                    explainer.save(grid, save_location, save_name)\n",
    "                    \n",
    "        \n",
    "        #policy = mixed_precision.Policy('mixed_float16')\n",
    "        #mixed_precision.set_policy(policy)\n",
    "        "
   ]
  },
  {
   "cell_type": "code",
   "execution_count": null,
   "metadata": {},
   "outputs": [],
   "source": []
  },
  {
   "cell_type": "code",
   "execution_count": 26,
   "metadata": {},
   "outputs": [
    {
     "name": "stdout",
     "output_type": "stream",
     "text": [
      "\n",
      "Arch:  DenseNet201\n",
      "WARNING:tensorflow:sample_weight modes were coerced from\n",
      "  ...\n",
      "    to  \n",
      "  ['...']\n",
      "WARNING:tensorflow:sample_weight modes were coerced from\n",
      "  ...\n",
      "    to  \n",
      "  ['...']\n",
      "Train for 883 steps, validate for 111 steps\n",
      "Epoch 1/6\n",
      "883/883 [==============================] - 291s 329ms/step - loss: 0.5598 - accuracy: 0.7466 - val_loss: 0.4929 - val_accuracy: 0.8163\n",
      "Epoch 2/6\n",
      "883/883 [==============================] - 229s 260ms/step - loss: 0.5117 - accuracy: 0.7980 - val_loss: 0.5474 - val_accuracy: 0.7676\n",
      "Epoch 3/6\n",
      "883/883 [==============================] - 229s 259ms/step - loss: 0.4960 - accuracy: 0.8145 - val_loss: 0.4681 - val_accuracy: 0.8447\n",
      "Epoch 4/6\n",
      "883/883 [==============================] - 230s 261ms/step - loss: 0.4741 - accuracy: 0.8362 - val_loss: 0.4499 - val_accuracy: 0.8628\n",
      "Epoch 5/6\n",
      "883/883 [==============================] - 230s 261ms/step - loss: 0.4791 - accuracy: 0.8310 - val_loss: 0.5074 - val_accuracy: 0.8095\n",
      "Epoch 6/6\n",
      "883/883 [==============================] - 231s 261ms/step - loss: 0.4764 - accuracy: 0.8349 - val_loss: 0.4635 - val_accuracy: 0.8503\n",
      "\n",
      "\n"
     ]
    }
   ],
   "source": [
    "\n",
    "\n",
    "STEPS_PER_EPOCH = len(train_generator) \n",
    "VAL_STEPS_PER_EPOCH = len(valid_generator) \n",
    "\n",
    "print(\"\")\n",
    "print(\"Arch: \", architecture[0])\n",
    "\n",
    "optimizer = None\n",
    "        \n",
    "if opt == 'Adam':\n",
    "    optimizer = tf.keras.optimizers.Adam(lr=lr)\n",
    "elif opt == 'Nadam':\n",
    "    optimizer = tf.keras.optimizers.Nadam(lr=lr)\n",
    "else:\n",
    "    optimizer = tf.keras.optimizers.SGD(lr=lr, momentum=0.9, decay=1e-6, nesterov=True)    \n",
    "    \n",
    "model = create_model()\n",
    "\n",
    "        \n",
    "loss_fn = None\n",
    "if loss == 'Binary':\n",
    "    loss_fn = tf.keras.losses.BinaryCrossentropy(from_logits=from_logits)\n",
    "elif loss == 'Categorical':\n",
    "    loss_fn = tf.keras.losses.CategoricalCrossentropy(from_logits=from_logits)\n",
    "else:\n",
    "    loss_fn = None\n",
    "    \n",
    "model.compile(optimizer=optimizer,\n",
    "              loss=loss_fn,\n",
    "              metrics=metrics)\n",
    "\n",
    "\n",
    "loss_calc = ''\n",
    "if from_logits:\n",
    "    loss_calc = 'from_logits'\n",
    "else:\n",
    "    loss_calc = 'not_from_logits'\n",
    "\n",
    "run_name = architecture[0] + '_' + l[0] + '_' + opt + '_' + str(BATCH_SIZE) + '_' + mode + '_' + one_hot + '_' + activation + '_' + loss_calc\n",
    "run_dir = datetime.now().strftime(\"%Y%m%d-%H%M%S.%f\") + '_' + run_name\n",
    "output_dir = Path(\"./logs/grad_cam\") / run_dir\n",
    "\n",
    "Path.mkdir(Path(output_dir), parents=True, exist_ok=True)\n",
    "\n",
    "history = model.fit(train_generator,\n",
    "                    epochs=EPOCHS,\n",
    "                    validation_data=valid_generator, \n",
    "                    steps_per_epoch=STEPS_PER_EPOCH, \n",
    "                    validation_steps=VAL_STEPS_PER_EPOCH,\n",
    "                    callbacks=[SaveGradCAMCallback(output_dir=output_dir,\n",
    "                                                   layer_names=layer_names,\n",
    "                                                   examples=valid_examples,\n",
    "                                                   indexes=indexes)])\n",
    "        \n",
    "        \n",
    "        \n",
    "print(\"\")\n",
    "print(\"\")\n"
   ]
  },
  {
   "cell_type": "code",
   "execution_count": 27,
   "metadata": {},
   "outputs": [],
   "source": [
    "np.save(output_dir / 'history.npy', history.history)"
   ]
  },
  {
   "cell_type": "code",
   "execution_count": 28,
   "metadata": {},
   "outputs": [],
   "source": [
    "#loading the history object as a map\n",
    "#history=np.load('history.npy',allow_pickle='TRUE').item()"
   ]
  },
  {
   "cell_type": "code",
   "execution_count": null,
   "metadata": {},
   "outputs": [],
   "source": []
  },
  {
   "cell_type": "code",
   "execution_count": 29,
   "metadata": {},
   "outputs": [
    {
     "data": {
      "text/plain": [
       "{'loss': [0.5597297103162293,\n",
       "  0.5116730581156241,\n",
       "  0.4960054311825907,\n",
       "  0.4740572438924623,\n",
       "  0.47909886536914836,\n",
       "  0.47635752147053856],\n",
       " 'accuracy': [0.7465666, 0.79796124, 0.8145264, 0.8361886, 0.83095, 0.8349143],\n",
       " 'val_loss': [0.4928848861574053,\n",
       "  0.5473618767819963,\n",
       "  0.46807286787677455,\n",
       "  0.4498732645769377,\n",
       "  0.5073670771744874,\n",
       "  0.4634882982249732],\n",
       " 'val_accuracy': [0.81632656,\n",
       "  0.7675737,\n",
       "  0.8446712,\n",
       "  0.8628118,\n",
       "  0.8095238,\n",
       "  0.8503401]}"
      ]
     },
     "execution_count": 29,
     "metadata": {},
     "output_type": "execute_result"
    }
   ],
   "source": [
    "history.history"
   ]
  },
  {
   "cell_type": "code",
   "execution_count": 30,
   "metadata": {},
   "outputs": [
    {
     "data": {
      "image/png": "[encoded data removed]",
      "text/plain": [
       "<Figure size 576x576 with 2 Axes>"
      ]
     },
     "metadata": {
      "needs_background": "light"
     },
     "output_type": "display_data"
    }
   ],
   "source": [
    "acc = history.history['accuracy']\n",
    "val_acc = history.history['val_accuracy']\n",
    "\n",
    "loss = history.history['loss']\n",
    "val_loss = history.history['val_loss']\n",
    "\n",
    "plt.figure(figsize=(8, 8))\n",
    "plt.subplot(2, 1, 1)\n",
    "plt.plot(acc, label='Training Accuracy')\n",
    "plt.plot(val_acc, label='Validation Accuracy')\n",
    "plt.legend(loc='lower right')\n",
    "plt.ylabel('Accuracy')\n",
    "plt.ylim([min(plt.ylim()),1])\n",
    "plt.title('Training and Validation Accuracy')\n",
    "\n",
    "plt.subplot(2, 1, 2)\n",
    "plt.plot(loss, label='Training Loss')\n",
    "plt.plot(val_loss, label='Validation Loss')\n",
    "plt.legend(loc='upper right')\n",
    "plt.ylabel('Cross Entropy')\n",
    "plt.ylim([0,1.0])\n",
    "plt.title('Training and Validation Loss')\n",
    "plt.xlabel('epoch')\n",
    "plt.show()"
   ]
  },
  {
   "cell_type": "code",
   "execution_count": null,
   "metadata": {},
   "outputs": [],
   "source": []
  },
  {
   "cell_type": "code",
   "execution_count": 31,
   "metadata": {},
   "outputs": [],
   "source": [
    "model.trainable = True"
   ]
  },
  {
   "cell_type": "code",
   "execution_count": 32,
   "metadata": {},
   "outputs": [
    {
     "name": "stdout",
     "output_type": "stream",
     "text": [
      "Number of layers in the model:  715\n"
     ]
    }
   ],
   "source": [
    "# Let's take a look to see how many layers are in the base model\n",
    "print(\"Number of layers in the model: \", len(model.layers))\n",
    "\n",
    "# Fine-tune from the first third onward\n",
    "fine_tune_at = int(.3 * len(model.layers))\n",
    "\n",
    "# Freeze all the layers before the `fine_tune_at` layer\n",
    "for layer in model.layers[:fine_tune_at]:\n",
    "    if layer.name.endswith('bn'):\n",
    "        layer.trainable = True\n",
    "    else:\n",
    "        layer.trainable = False"
   ]
  },
  {
   "cell_type": "code",
   "execution_count": 33,
   "metadata": {},
   "outputs": [],
   "source": [
    "if opt == 'Adam':\n",
    "    optimizer = tf.keras.optimizers.Adam(lr=lr/10)\n",
    "elif opt == 'Nadam':\n",
    "    optimizer = tf.keras.optimizers.Nadam(lr=lr/10)\n",
    "else:\n",
    "    optimizer = tf.keras.optimizers.SGD(lr=lr/10, momentum=0.9, decay=1e-6, nesterov=True)   \n",
    "\n",
    "model.compile(optimizer=optimizer,\n",
    "              loss=loss_fn,\n",
    "              metrics=metrics)    "
   ]
  },
  {
   "cell_type": "code",
   "execution_count": 34,
   "metadata": {},
   "outputs": [],
   "source": [
    "fine_tune_epochs = 8\n",
    "total_epochs =  EPOCHS + fine_tune_epochs"
   ]
  },
  {
   "cell_type": "code",
   "execution_count": 35,
   "metadata": {},
   "outputs": [
    {
     "name": "stdout",
     "output_type": "stream",
     "text": [
      "WARNING:tensorflow:sample_weight modes were coerced from\n",
      "  ...\n",
      "    to  \n",
      "  ['...']\n",
      "WARNING:tensorflow:sample_weight modes were coerced from\n",
      "  ...\n",
      "    to  \n",
      "  ['...']\n",
      "Train for 883 steps, validate for 111 steps\n",
      "Epoch 6/14\n",
      "883/883 [==============================] - 284s 321ms/step - loss: 0.4831 - accuracy: 0.8280 - val_loss: 0.4779 - val_accuracy: 0.8379\n",
      "Epoch 7/14\n",
      "883/883 [==============================] - 253s 287ms/step - loss: 0.4573 - accuracy: 0.8546 - val_loss: 0.4360 - val_accuracy: 0.8798\n",
      "Epoch 8/14\n",
      "883/883 [==============================] - 253s 287ms/step - loss: 0.4593 - accuracy: 0.8530 - val_loss: 0.4421 - val_accuracy: 0.8719\n",
      "Epoch 9/14\n",
      "883/883 [==============================] - 252s 286ms/step - loss: 0.4530 - accuracy: 0.8588 - val_loss: 0.4388 - val_accuracy: 0.8753\n",
      "Epoch 10/14\n",
      "883/883 [==============================] - 253s 286ms/step - loss: 0.4472 - accuracy: 0.8656 - val_loss: 0.4222 - val_accuracy: 0.8946\n",
      "Epoch 11/14\n",
      "883/883 [==============================] - 254s 287ms/step - loss: 0.4445 - accuracy: 0.8676 - val_loss: 0.4215 - val_accuracy: 0.8946\n",
      "Epoch 12/14\n",
      "883/883 [==============================] - 253s 286ms/step - loss: 0.4351 - accuracy: 0.8771 - val_loss: 0.4206 - val_accuracy: 0.8934\n",
      "Epoch 13/14\n",
      "883/883 [==============================] - 253s 287ms/step - loss: 0.4394 - accuracy: 0.8720 - val_loss: 0.4188 - val_accuracy: 0.8946\n",
      "Epoch 14/14\n",
      "883/883 [==============================] - 253s 287ms/step - loss: 0.4304 - accuracy: 0.8816 - val_loss: 0.4610 - val_accuracy: 0.8526\n"
     ]
    }
   ],
   "source": [
    "history_fine = model.fit(train_generator,\n",
    "                    epochs=total_epochs,\n",
    "                    initial_epoch =  history.epoch[-1],\n",
    "                    validation_data=valid_generator, \n",
    "                    steps_per_epoch=STEPS_PER_EPOCH, \n",
    "                    validation_steps=VAL_STEPS_PER_EPOCH,\n",
    "                    callbacks=[SaveGradCAMCallback(output_dir=output_dir,\n",
    "                                                   layer_names=layer_names,\n",
    "                                                   examples=valid_examples,\n",
    "                                                   indexes=indexes)])"
   ]
  },
  {
   "cell_type": "code",
   "execution_count": 36,
   "metadata": {},
   "outputs": [],
   "source": [
    "np.save(output_dir / 'history_fine.npy', history_fine.history)"
   ]
  },
  {
   "cell_type": "code",
   "execution_count": 37,
   "metadata": {},
   "outputs": [
    {
     "data": {
      "image/png": "[encoded data removed]",
      "text/plain": [
       "<Figure size 576x576 with 2 Axes>"
      ]
     },
     "metadata": {
      "needs_background": "light"
     },
     "output_type": "display_data"
    }
   ],
   "source": [
    "acc += history_fine.history['accuracy']\n",
    "val_acc += history_fine.history['val_accuracy']\n",
    "\n",
    "loss += history_fine.history['loss']\n",
    "val_loss += history_fine.history['val_loss']\n",
    "\n",
    "plt.figure(figsize=(8, 8))\n",
    "plt.subplot(2, 1, 1)\n",
    "plt.plot(acc, label='Training Accuracy')\n",
    "plt.plot(val_acc, label='Validation Accuracy')\n",
    "plt.ylim([0.8, 1])\n",
    "plt.plot([EPOCHS-1,EPOCHS-1],\n",
    "          plt.ylim(), label='Start Fine Tuning')\n",
    "plt.legend(loc='lower right')\n",
    "plt.title('Training and Validation Accuracy')\n",
    "\n",
    "plt.subplot(2, 1, 2)\n",
    "plt.plot(loss, label='Training Loss')\n",
    "plt.plot(val_loss, label='Validation Loss')\n",
    "plt.ylim([0, 1.0])\n",
    "plt.plot([EPOCHS-1,EPOCHS-1],\n",
    "         plt.ylim(), label='Start Fine Tuning')\n",
    "plt.legend(loc='upper right')\n",
    "plt.title('Training and Validation Loss')\n",
    "plt.xlabel('epoch')\n",
    "plt.show()"
   ]
  },
  {
   "cell_type": "code",
   "execution_count": 38,
   "metadata": {},
   "outputs": [],
   "source": [
    "model.trainable = True"
   ]
  },
  {
   "cell_type": "code",
   "execution_count": 39,
   "metadata": {},
   "outputs": [],
   "source": [
    "if opt == 'Adam':\n",
    "    optimizer = tf.keras.optimizers.Adam(lr=lr/100)\n",
    "elif opt == 'Nadam':\n",
    "    optimizer = tf.keras.optimizers.Nadam(lr=lr/100)\n",
    "else:\n",
    "    optimizer = tf.keras.optimizers.SGD(lr=lr/100, momentum=0.9, decay=1e-6, nesterov=True)\n",
    "    \n",
    "model.compile(optimizer=optimizer,\n",
    "              loss=loss_fn,\n",
    "              metrics=metrics)"
   ]
  },
  {
   "cell_type": "code",
   "execution_count": 40,
   "metadata": {},
   "outputs": [],
   "source": [
    "unfreeze_epochs = 8\n",
    "total_epochs =  EPOCHS + fine_tune_epochs + unfreeze_epochs"
   ]
  },
  {
   "cell_type": "code",
   "execution_count": 41,
   "metadata": {},
   "outputs": [
    {
     "name": "stdout",
     "output_type": "stream",
     "text": [
      "WARNING:tensorflow:sample_weight modes were coerced from\n",
      "  ...\n",
      "    to  \n",
      "  ['...']\n",
      "WARNING:tensorflow:sample_weight modes were coerced from\n",
      "  ...\n",
      "    to  \n",
      "  ['...']\n",
      "Train for 883 steps, validate for 111 steps\n",
      "Epoch 14/22\n",
      "883/883 [==============================] - 323s 366ms/step - loss: 0.4236 - accuracy: 0.8890 - val_loss: 0.4249 - val_accuracy: 0.8912\n",
      "Epoch 15/22\n",
      "883/883 [==============================] - 291s 330ms/step - loss: 0.4136 - accuracy: 0.8985 - val_loss: 0.4113 - val_accuracy: 0.9036\n",
      "Epoch 16/22\n",
      "883/883 [==============================] - 290s 329ms/step - loss: 0.4112 - accuracy: 0.9016 - val_loss: 0.4169 - val_accuracy: 0.8968\n",
      "Epoch 17/22\n",
      "883/883 [==============================] - 291s 329ms/step - loss: 0.4069 - accuracy: 0.9063 - val_loss: 0.4337 - val_accuracy: 0.8821\n",
      "Epoch 18/22\n",
      "883/883 [==============================] - 293s 331ms/step - loss: 0.4151 - accuracy: 0.8978 - val_loss: 0.4235 - val_accuracy: 0.8912\n",
      "Epoch 19/22\n",
      "883/883 [==============================] - 293s 332ms/step - loss: 0.4129 - accuracy: 0.8996 - val_loss: 0.4152 - val_accuracy: 0.8991\n",
      "Epoch 20/22\n",
      "883/883 [==============================] - 294s 333ms/step - loss: 0.4036 - accuracy: 0.9085 - val_loss: 0.4138 - val_accuracy: 0.9014\n",
      "Epoch 21/22\n",
      "883/883 [==============================] - 292s 331ms/step - loss: 0.3987 - accuracy: 0.9148 - val_loss: 0.4241 - val_accuracy: 0.8912\n",
      "Epoch 22/22\n",
      "883/883 [==============================] - 293s 332ms/step - loss: 0.4010 - accuracy: 0.9115 - val_loss: 0.4056 - val_accuracy: 0.9104\n"
     ]
    }
   ],
   "source": [
    "history_unfreeze = model.fit(train_generator,\n",
    "                    epochs=total_epochs,\n",
    "                    initial_epoch =  history_fine.epoch[-1],\n",
    "                    validation_data=valid_generator, \n",
    "                    steps_per_epoch=STEPS_PER_EPOCH, \n",
    "                    validation_steps=VAL_STEPS_PER_EPOCH,\n",
    "                    callbacks=[SaveGradCAMCallback(output_dir=output_dir,\n",
    "                                                   layer_names=layer_names,\n",
    "                                                   examples=valid_examples,\n",
    "                                                   indexes=indexes)])"
   ]
  },
  {
   "cell_type": "code",
   "execution_count": 42,
   "metadata": {},
   "outputs": [],
   "source": [
    "np.save(output_dir / 'history_unfreeze.npy', history_unfreeze.history)"
   ]
  },
  {
   "cell_type": "code",
   "execution_count": 43,
   "metadata": {},
   "outputs": [],
   "source": [
    "acc += history_unfreeze.history['accuracy']\n",
    "val_acc += history_unfreeze.history['val_accuracy']\n",
    "\n",
    "loss += history_unfreeze.history['loss']\n",
    "val_loss += history_unfreeze.history['val_loss']"
   ]
  },
  {
   "cell_type": "code",
   "execution_count": 44,
   "metadata": {},
   "outputs": [
    {
     "data": {
      "image/png": "[encoded data removed]",
      "text/plain": [
       "<Figure size 576x576 with 2 Axes>"
      ]
     },
     "metadata": {
      "needs_background": "light"
     },
     "output_type": "display_data"
    }
   ],
   "source": [
    "plt.figure(figsize=(8, 8))\n",
    "plt.subplot(2, 1, 1)\n",
    "plt.plot(acc, label='Training Accuracy')\n",
    "plt.plot(val_acc, label='Validation Accuracy')\n",
    "plt.ylim([0.8, 1])\n",
    "plt.plot([EPOCHS-1,EPOCHS-1],\n",
    "          plt.ylim(), label='Start Fine Tuning')\n",
    "plt.plot([(EPOCHS+fine_tune_epochs)-1,(EPOCHS+fine_tune_epochs)-1],\n",
    "          plt.ylim(), label='Start Full Unfreeze')\n",
    "plt.legend(loc='lower right')\n",
    "plt.title('Training and Validation Accuracy')\n",
    "\n",
    "plt.subplot(2, 1, 2)\n",
    "plt.plot(loss, label='Training Loss')\n",
    "plt.plot(val_loss, label='Validation Loss')\n",
    "plt.ylim([0, 1.0])\n",
    "plt.plot([EPOCHS-1,EPOCHS-1],\n",
    "         plt.ylim(), label='Start Fine Tuning')\n",
    "plt.plot([(EPOCHS+fine_tune_epochs)-1,(EPOCHS+fine_tune_epochs)-1],\n",
    "          plt.ylim(), label='Start Full Unfreeze')\n",
    "plt.legend(loc='upper right')\n",
    "plt.title('Training and Validation Loss')\n",
    "plt.xlabel('epoch')\n",
    "plt.show()"
   ]
  },
  {
   "cell_type": "code",
   "execution_count": null,
   "metadata": {},
   "outputs": [],
   "source": []
  },
  {
   "cell_type": "code",
   "execution_count": null,
   "metadata": {},
   "outputs": [],
   "source": []
  },
  {
   "cell_type": "code",
   "execution_count": null,
   "metadata": {},
   "outputs": [],
   "source": []
  },
  {
   "cell_type": "code",
   "execution_count": null,
   "metadata": {},
   "outputs": [],
   "source": []
  },
  {
   "cell_type": "code",
   "execution_count": null,
   "metadata": {},
   "outputs": [],
   "source": []
  },
  {
   "cell_type": "code",
   "execution_count": 45,
   "metadata": {},
   "outputs": [
    {
     "name": "stdout",
     "output_type": "stream",
     "text": [
      "WARNING:tensorflow:sample_weight modes were coerced from\n",
      "  ...\n",
      "    to  \n",
      "  ['...']\n",
      "111/111 [==============================] - 10s 91ms/step - loss: 0.4124 - accuracy: 0.8980\n"
     ]
    }
   ],
   "source": [
    "metrics = model.evaluate(test_generator)"
   ]
  },
  {
   "cell_type": "code",
   "execution_count": 46,
   "metadata": {},
   "outputs": [
    {
     "data": {
      "text/plain": [
       "[0.41242587485828913, 0.8979592]"
      ]
     },
     "execution_count": 46,
     "metadata": {},
     "output_type": "execute_result"
    }
   ],
   "source": [
    "metrics"
   ]
  },
  {
   "cell_type": "code",
   "execution_count": 47,
   "metadata": {},
   "outputs": [],
   "source": [
    "np.save(output_dir / 'metrics.npy', metrics)"
   ]
  },
  {
   "cell_type": "code",
   "execution_count": 48,
   "metadata": {},
   "outputs": [],
   "source": [
    "preds_test = model.predict(test_generator)"
   ]
  },
  {
   "cell_type": "code",
   "execution_count": 49,
   "metadata": {},
   "outputs": [
    {
     "data": {
      "text/plain": [
       "array([[4.4268867e-17, 1.0000000e+00],\n",
       "       [1.0000000e+00, 1.2828919e-19],\n",
       "       [1.0000000e+00, 7.6168792e-19],\n",
       "       ...,\n",
       "       [1.0000000e+00, 1.9450383e-18],\n",
       "       [1.0000000e+00, 3.2897830e-17],\n",
       "       [9.4310159e-14, 1.0000000e+00]], dtype=float32)"
      ]
     },
     "execution_count": 49,
     "metadata": {},
     "output_type": "execute_result"
    }
   ],
   "source": [
    "preds_test"
   ]
  },
  {
   "cell_type": "code",
   "execution_count": 50,
   "metadata": {},
   "outputs": [],
   "source": [
    "np.save(output_dir / 'preds_test.npy', preds_test)"
   ]
  },
  {
   "cell_type": "code",
   "execution_count": 51,
   "metadata": {},
   "outputs": [],
   "source": [
    "y_test_one_hot = np.zeros((y_test.size, y_test.max()+1))\n",
    "y_test_one_hot[np.arange(y_test.size),y_test] = 1"
   ]
  },
  {
   "cell_type": "code",
   "execution_count": 52,
   "metadata": {},
   "outputs": [
    {
     "data": {
      "text/plain": [
       "array([[0., 1.],\n",
       "       [1., 0.],\n",
       "       [1., 0.],\n",
       "       ...,\n",
       "       [1., 0.],\n",
       "       [1., 0.],\n",
       "       [0., 1.]])"
      ]
     },
     "execution_count": 52,
     "metadata": {},
     "output_type": "execute_result"
    }
   ],
   "source": [
    "y_test_one_hot"
   ]
  },
  {
   "cell_type": "code",
   "execution_count": 53,
   "metadata": {},
   "outputs": [],
   "source": [
    "np.save(output_dir / 'y_test.npy', y_test_one_hot)"
   ]
  },
  {
   "cell_type": "code",
   "execution_count": null,
   "metadata": {},
   "outputs": [],
   "source": []
  },
  {
   "cell_type": "code",
   "execution_count": 54,
   "metadata": {},
   "outputs": [],
   "source": [
    "h=np.load(output_dir / 'history.npy',allow_pickle='TRUE').item()"
   ]
  },
  {
   "cell_type": "code",
   "execution_count": 55,
   "metadata": {},
   "outputs": [
    {
     "data": {
      "text/plain": [
       "{'loss': [0.5597297103162293,\n",
       "  0.5116730581156241,\n",
       "  0.4960054311825907,\n",
       "  0.4740572438924623,\n",
       "  0.47909886536914836,\n",
       "  0.47635752147053856],\n",
       " 'accuracy': [0.7465666, 0.79796124, 0.8145264, 0.8361886, 0.83095, 0.8349143],\n",
       " 'val_loss': [0.4928848861574053,\n",
       "  0.5473618767819963,\n",
       "  0.46807286787677455,\n",
       "  0.4498732645769377,\n",
       "  0.5073670771744874,\n",
       "  0.4634882982249732],\n",
       " 'val_accuracy': [0.81632656,\n",
       "  0.7675737,\n",
       "  0.8446712,\n",
       "  0.8628118,\n",
       "  0.8095238,\n",
       "  0.8503401]}"
      ]
     },
     "execution_count": 55,
     "metadata": {},
     "output_type": "execute_result"
    }
   ],
   "source": [
    "h"
   ]
  },
  {
   "cell_type": "code",
   "execution_count": 56,
   "metadata": {},
   "outputs": [],
   "source": [
    "m=np.load(output_dir / 'metrics.npy')"
   ]
  },
  {
   "cell_type": "code",
   "execution_count": 57,
   "metadata": {},
   "outputs": [
    {
     "data": {
      "text/plain": [
       "(2,)"
      ]
     },
     "execution_count": 57,
     "metadata": {},
     "output_type": "execute_result"
    }
   ],
   "source": [
    "m.shape"
   ]
  },
  {
   "cell_type": "code",
   "execution_count": 58,
   "metadata": {},
   "outputs": [],
   "source": [
    "p=np.load(output_dir / 'preds_test.npy')"
   ]
  },
  {
   "cell_type": "code",
   "execution_count": 59,
   "metadata": {},
   "outputs": [
    {
     "data": {
      "text/plain": [
       "array([[4.4268867e-17, 1.0000000e+00],\n",
       "       [1.0000000e+00, 1.2828919e-19],\n",
       "       [1.0000000e+00, 7.6168792e-19],\n",
       "       ...,\n",
       "       [1.0000000e+00, 1.9450383e-18],\n",
       "       [1.0000000e+00, 3.2897830e-17],\n",
       "       [9.4310159e-14, 1.0000000e+00]], dtype=float32)"
      ]
     },
     "execution_count": 59,
     "metadata": {},
     "output_type": "execute_result"
    }
   ],
   "source": [
    "p"
   ]
  },
  {
   "cell_type": "code",
   "execution_count": 60,
   "metadata": {},
   "outputs": [],
   "source": [
    "y=np.load(output_dir / 'y_test.npy')"
   ]
  },
  {
   "cell_type": "code",
   "execution_count": 61,
   "metadata": {},
   "outputs": [
    {
     "data": {
      "text/plain": [
       "array([[0., 1.],\n",
       "       [1., 0.],\n",
       "       [1., 0.],\n",
       "       ...,\n",
       "       [1., 0.],\n",
       "       [1., 0.],\n",
       "       [0., 1.]])"
      ]
     },
     "execution_count": 61,
     "metadata": {},
     "output_type": "execute_result"
    }
   ],
   "source": [
    "y"
   ]
  },
  {
   "cell_type": "code",
   "execution_count": null,
   "metadata": {},
   "outputs": [],
   "source": []
  }
 ],
 "metadata": {
  "kernelspec": {
   "display_name": "tf2.1-conda",
   "language": "python",
   "name": "tf2.1-conda"
  },
  "language_info": {
   "codemirror_mode": {
    "name": "ipython",
    "version": 3
   },
   "file_extension": ".py",
   "mimetype": "text/x-python",
   "name": "python",
   "nbconvert_exporter": "python",
   "pygments_lexer": "ipython3",
   "version": "3.7.6"
  }
 },
 "nbformat": 4,
 "nbformat_minor": 2
}
