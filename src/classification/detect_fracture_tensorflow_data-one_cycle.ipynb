{
 "cells": [
  {
   "cell_type": "code",
   "execution_count": 1,
   "metadata": {},
   "outputs": [],
   "source": [
    "from __future__ import absolute_import, division, print_function, unicode_literals\n",
    "import tensorflow as tf\n",
    "from tensorflow import keras\n",
    "from tensorflow.keras import layers\n",
    "from tensorflow.keras.mixed_precision import experimental as mixed_precision\n",
    "\n",
    "from tensorflow.keras.callbacks import Callback\n",
    "\n",
    "import IPython.display as display\n",
    "from PIL import Image\n",
    "import numpy as np\n",
    "import matplotlib.pyplot as plt\n",
    "import os\n",
    "import pathlib"
   ]
  },
  {
   "cell_type": "code",
   "execution_count": 2,
   "metadata": {},
   "outputs": [],
   "source": [
    "AUTOTUNE = tf.data.experimental.AUTOTUNE"
   ]
  },
  {
   "cell_type": "code",
   "execution_count": 3,
   "metadata": {},
   "outputs": [],
   "source": [
    "BATCH_SIZE = 16\n",
    "IMG_HEIGHT = 512\n",
    "IMG_WIDTH = 512\n",
    "epochs = 80\n",
    "lr = 3e-4"
   ]
  },
  {
   "cell_type": "code",
   "execution_count": 4,
   "metadata": {},
   "outputs": [],
   "source": [
    "val_data_dir = '/opt/AIStorage/PLAYGROUND/data/validation'\n",
    "val_data_dir = pathlib.Path(val_data_dir)\n",
    "\n",
    "data_dir = '/opt/AIStorage/PLAYGROUND/data/train'\n",
    "data_dir = pathlib.Path(data_dir)"
   ]
  },
  {
   "cell_type": "code",
   "execution_count": 5,
   "metadata": {},
   "outputs": [
    {
     "data": {
      "text/plain": [
       "3196"
      ]
     },
     "execution_count": 5,
     "metadata": {},
     "output_type": "execute_result"
    }
   ],
   "source": [
    "image_count = len(list(data_dir.glob('*/*.png')))\n",
    "image_count"
   ]
  },
  {
   "cell_type": "code",
   "execution_count": 6,
   "metadata": {},
   "outputs": [
    {
     "data": {
      "text/plain": [
       "798"
      ]
     },
     "execution_count": 6,
     "metadata": {},
     "output_type": "execute_result"
    }
   ],
   "source": [
    "val_image_count = len(list(val_data_dir.glob('*/*.png')))\n",
    "val_image_count"
   ]
  },
  {
   "cell_type": "code",
   "execution_count": 7,
   "metadata": {},
   "outputs": [],
   "source": [
    "list_ds = tf.data.Dataset.list_files(str(data_dir/'*/*'))\n",
    "\n",
    "val_list_ds = tf.data.Dataset.list_files(str(val_data_dir/'*/*'))"
   ]
  },
  {
   "cell_type": "code",
   "execution_count": 8,
   "metadata": {},
   "outputs": [],
   "source": [
    "def get_label(file_path):\n",
    "  # convert the path to a list of path components\n",
    "  parts = tf.strings.split(file_path, os.path.sep)\n",
    "  # The second to last is the class-directory\n",
    "  label = -1\n",
    "  if parts[-2] == 'negative':\n",
    "    label = tf.constant([1.0, 0.0])\n",
    "  else:\n",
    "    label = tf.constant([0.0, 1.0])\n",
    "  return label"
   ]
  },
  {
   "cell_type": "code",
   "execution_count": 9,
   "metadata": {},
   "outputs": [],
   "source": [
    "def decode_img(img):\n",
    "  # convert the compressed string to a 3D uint8 tensor\n",
    "  img = tf.image.decode_png(img, channels=3)\n",
    "  # Use `convert_image_dtype` to convert to floats in the [0,1] range.\n",
    "  img = tf.image.convert_image_dtype(img, tf.float32)\n",
    "  # resize the image to the desired size.\n",
    "  return tf.image.resize(img, [IMG_WIDTH, IMG_HEIGHT])"
   ]
  },
  {
   "cell_type": "code",
   "execution_count": 10,
   "metadata": {},
   "outputs": [],
   "source": [
    "def process_path(file_path):\n",
    "  label = get_label(file_path)\n",
    "  # load the raw data from the file as a string\n",
    "  img = tf.io.read_file(file_path)\n",
    "  img = decode_img(img)\n",
    "  return img, label"
   ]
  },
  {
   "cell_type": "code",
   "execution_count": 11,
   "metadata": {},
   "outputs": [],
   "source": [
    "# Set `num_parallel_calls` so multiple images are loaded/processed in parallel.\n",
    "labeled_ds = list_ds.map(process_path, num_parallel_calls=AUTOTUNE)\n",
    "\n",
    "val_labeled_ds = val_list_ds.map(process_path, num_parallel_calls=AUTOTUNE)"
   ]
  },
  {
   "cell_type": "code",
   "execution_count": 12,
   "metadata": {},
   "outputs": [],
   "source": [
    "STEPS_PER_EPOCH = np.ceil(image_count/BATCH_SIZE)\n",
    "VAL_STEPS_PER_EPOCH = np.ceil(val_image_count/BATCH_SIZE)"
   ]
  },
  {
   "cell_type": "code",
   "execution_count": 13,
   "metadata": {},
   "outputs": [
    {
     "name": "stdout",
     "output_type": "stream",
     "text": [
      "Image shape:  (512, 512, 3)\n",
      "Label:  [0. 1.]\n"
     ]
    }
   ],
   "source": [
    "for image, label in labeled_ds.take(1):\n",
    "  print(\"Image shape: \", image.numpy().shape)\n",
    "  print(\"Label: \", label.numpy())"
   ]
  },
  {
   "cell_type": "code",
   "execution_count": 14,
   "metadata": {},
   "outputs": [
    {
     "name": "stdout",
     "output_type": "stream",
     "text": [
      "Image shape:  (512, 512, 3)\n",
      "Label:  [0. 1.]\n"
     ]
    }
   ],
   "source": [
    "for image, label in val_labeled_ds.take(1):\n",
    "  print(\"Image shape: \", image.numpy().shape)\n",
    "  print(\"Label: \", label.numpy())"
   ]
  },
  {
   "cell_type": "code",
   "execution_count": 15,
   "metadata": {},
   "outputs": [],
   "source": [
    "def prepare_for_training(ds, shuffle=True, cache=True, shuffle_buffer_size=1000):\n",
    "  # This is a small dataset, only load it once, and keep it in memory.\n",
    "  # use `.cache(filename)` to cache preprocessing work for datasets that don't\n",
    "  # fit in memory.\n",
    "  if cache:\n",
    "    if isinstance(cache, str):\n",
    "      ds = ds.cache(cache)\n",
    "    else:\n",
    "      ds = ds.cache()\n",
    "\n",
    "  if shuffle:\n",
    "    ds = ds.shuffle(buffer_size=shuffle_buffer_size, reshuffle_each_iteration=True)\n",
    "\n",
    "  # Repeat forever\n",
    "  ds = ds.repeat()\n",
    "\n",
    "  ds = ds.batch(BATCH_SIZE)\n",
    "\n",
    "  # `prefetch` lets the dataset fetch batches in the background while the model\n",
    "  # is training.\n",
    "  ds = ds.prefetch(buffer_size=AUTOTUNE)\n",
    "\n",
    "  return ds"
   ]
  },
  {
   "cell_type": "code",
   "execution_count": 16,
   "metadata": {},
   "outputs": [],
   "source": [
    "train_ds = prepare_for_training(labeled_ds)\n",
    "\n",
    "valid_ds = prepare_for_training(val_labeled_ds, shuffle=False)\n",
    "#valid_ds = val_labeled_ds\n",
    "\n",
    "image_batch, label_batch = next(iter(train_ds))"
   ]
  },
  {
   "cell_type": "code",
   "execution_count": null,
   "metadata": {},
   "outputs": [],
   "source": []
  },
  {
   "cell_type": "code",
   "execution_count": 17,
   "metadata": {},
   "outputs": [],
   "source": [
    "class CosineAnnealer:\n",
    "    \n",
    "    def __init__(self, start, end, steps):\n",
    "        self.start = start\n",
    "        self.end = end\n",
    "        self.steps = steps\n",
    "        self.n = 0\n",
    "        \n",
    "    def step(self):\n",
    "        self.n += 1\n",
    "        cos = np.cos(np.pi * (self.n / self.steps)) + 1\n",
    "        return self.end + (self.start - self.end) / 2. * cos\n",
    "\n",
    "\n",
    "class OneCycleScheduler(Callback):\n",
    " \n",
    "\n",
    "    def __init__(self, lr_max, steps, mom_min=0.85, mom_max=0.95, phase_1_pct=0.3, div_factor=25.):\n",
    "        super(OneCycleScheduler, self).__init__()\n",
    "        lr_min = lr_max / div_factor\n",
    "        final_lr = lr_max / (div_factor * 1e4)\n",
    "        phase_1_steps = steps * phase_1_pct\n",
    "        phase_2_steps = steps - phase_1_steps\n",
    "        \n",
    "        self.phase_1_steps = phase_1_steps\n",
    "        self.phase_2_steps = phase_2_steps\n",
    "        self.phase = 0\n",
    "        self.step = 0\n",
    "        \n",
    "        self.phases = [[CosineAnnealer(lr_min, lr_max, phase_1_steps), CosineAnnealer(mom_max, mom_min, phase_1_steps)], \n",
    "                 [CosineAnnealer(lr_max, final_lr, phase_2_steps), CosineAnnealer(mom_min, mom_max, phase_2_steps)]]\n",
    "        \n",
    "        self.lrs = []\n",
    "        self.moms = []\n",
    "\n",
    "    def on_train_begin(self, logs=None):\n",
    "        self.phase = 0\n",
    "        self.step = 0\n",
    "\n",
    "        self.set_lr(self.lr_schedule().start)\n",
    "        self.set_momentum(self.mom_schedule().start)\n",
    "        \n",
    "    def on_train_batch_begin(self, batch, logs=None):\n",
    "        self.lrs.append(self.get_lr())\n",
    "        self.moms.append(self.get_momentum())\n",
    "\n",
    "    def on_train_batch_end(self, batch, logs=None):\n",
    "        self.step += 1\n",
    "        if self.step >= self.phase_1_steps:\n",
    "            self.phase = 1\n",
    "            \n",
    "        self.set_lr(self.lr_schedule().step())\n",
    "        self.set_momentum(self.mom_schedule().step())\n",
    "        \n",
    "    def get_lr(self):\n",
    "        try:\n",
    "            return tf.keras.backend.get_value(self.model.optimizer.lr)\n",
    "        except AttributeError:\n",
    "            print('get lr error')\n",
    "            return None\n",
    "        \n",
    "    def get_momentum(self):\n",
    "        try:\n",
    "            return tf.keras.backend.get_value(self.model.optimizer.momentum)\n",
    "        except AttributeError:\n",
    "            print('get momentum error')\n",
    "            return None\n",
    "        \n",
    "    def set_lr(self, lr):\n",
    "        try:\n",
    "            tf.keras.backend.set_value(self.model.optimizer.lr, lr)\n",
    "        except AttributeError:\n",
    "            print('set lr error')\n",
    "            pass # ignore\n",
    "        \n",
    "    def set_momentum(self, mom):\n",
    "        try:\n",
    "            tf.keras.backend.set_value(self.model.optimizer.momentum, mom)\n",
    "        except AttributeError:\n",
    "            print('set momentum error')\n",
    "            pass # ignore\n",
    "\n",
    "    def lr_schedule(self):\n",
    "        return self.phases[self.phase][0]\n",
    "    \n",
    "    def mom_schedule(self):\n",
    "        return self.phases[self.phase][1]\n",
    "    \n",
    "    def plot(self):\n",
    "        ax = plt.subplot(1, 2, 1)\n",
    "        ax.plot(self.lrs)\n",
    "        ax.set_title('Learning Rate')\n",
    "        ax = plt.subplot(1, 2, 2)\n",
    "        ax.plot(self.moms)\n",
    "        ax.set_title('Momentum')"
   ]
  },
  {
   "cell_type": "code",
   "execution_count": null,
   "metadata": {},
   "outputs": [],
   "source": []
  },
  {
   "cell_type": "code",
   "execution_count": null,
   "metadata": {},
   "outputs": [],
   "source": []
  },
  {
   "cell_type": "code",
   "execution_count": null,
   "metadata": {},
   "outputs": [],
   "source": []
  },
  {
   "cell_type": "code",
   "execution_count": 18,
   "metadata": {},
   "outputs": [
    {
     "name": "stdout",
     "output_type": "stream",
     "text": [
      "INFO:tensorflow:Reduce to /job:localhost/replica:0/task:0/device:CPU:0 then broadcast to ('/job:localhost/replica:0/task:0/device:CPU:0',).\n",
      "INFO:tensorflow:Reduce to /job:localhost/replica:0/task:0/device:CPU:0 then broadcast to ('/job:localhost/replica:0/task:0/device:CPU:0',).\n",
      "INFO:tensorflow:Reduce to /job:localhost/replica:0/task:0/device:CPU:0 then broadcast to ('/job:localhost/replica:0/task:0/device:CPU:0',).\n",
      "INFO:tensorflow:Reduce to /job:localhost/replica:0/task:0/device:CPU:0 then broadcast to ('/job:localhost/replica:0/task:0/device:CPU:0',).\n",
      "INFO:tensorflow:Reduce to /job:localhost/replica:0/task:0/device:CPU:0 then broadcast to ('/job:localhost/replica:0/task:0/device:CPU:0',).\n",
      "INFO:tensorflow:Reduce to /job:localhost/replica:0/task:0/device:CPU:0 then broadcast to ('/job:localhost/replica:0/task:0/device:CPU:0',).\n",
      "INFO:tensorflow:Reduce to /job:localhost/replica:0/task:0/device:CPU:0 then broadcast to ('/job:localhost/replica:0/task:0/device:CPU:0',).\n",
      "INFO:tensorflow:Reduce to /job:localhost/replica:0/task:0/device:CPU:0 then broadcast to ('/job:localhost/replica:0/task:0/device:CPU:0',).\n",
      "INFO:tensorflow:Reduce to /job:localhost/replica:0/task:0/device:CPU:0 then broadcast to ('/job:localhost/replica:0/task:0/device:CPU:0',).\n",
      "INFO:tensorflow:Reduce to /job:localhost/replica:0/task:0/device:CPU:0 then broadcast to ('/job:localhost/replica:0/task:0/device:CPU:0',).\n",
      "Model: \"sequential\"\n",
      "_________________________________________________________________\n",
      "Layer (type)                 Output Shape              Param #   \n",
      "=================================================================\n",
      "xception (Model)             (None, 16, 16, 2048)      20861480  \n",
      "_________________________________________________________________\n",
      "global_average_pooling2d (Gl (None, 2048)              0         \n",
      "_________________________________________________________________\n",
      "batch_normalization_4 (Batch (None, 2048)              8192      \n",
      "_________________________________________________________________\n",
      "dropout (Dropout)            (None, 2048)              0         \n",
      "_________________________________________________________________\n",
      "dense (Dense)                (None, 1024)              2098176   \n",
      "_________________________________________________________________\n",
      "batch_normalization_5 (Batch (None, 1024)              4096      \n",
      "_________________________________________________________________\n",
      "dropout_1 (Dropout)          (None, 1024)              0         \n",
      "_________________________________________________________________\n",
      "dense_1 (Dense)              (None, 2)                 2050      \n",
      "=================================================================\n",
      "Total params: 22,973,994\n",
      "Trainable params: 2,106,370\n",
      "Non-trainable params: 20,867,624\n",
      "_________________________________________________________________\n",
      "Train for 200.0 steps, validate for 50.0 steps\n",
      "Epoch 1/80\n",
      "INFO:tensorflow:batch_all_reduce: 8 all-reduces with algorithm = nccl, num_packs = 1, agg_small_grads_max_bytes = 0 and agg_small_grads_max_group = 10\n",
      "INFO:tensorflow:batch_all_reduce: 8 all-reduces with algorithm = nccl, num_packs = 1, agg_small_grads_max_bytes = 0 and agg_small_grads_max_group = 10\n",
      "200/200 [==============================] - 105s 525ms/step - loss: 0.9262 - acc: 0.5131 - val_loss: 0.7129 - val_acc: 0.5025\n",
      "Epoch 2/80\n",
      "200/200 [==============================] - 25s 125ms/step - loss: 0.9422 - acc: 0.5014 - val_loss: 0.7965 - val_acc: 0.5487\n",
      "Epoch 3/80\n",
      "200/200 [==============================] - 25s 124ms/step - loss: 0.9457 - acc: 0.4945 - val_loss: 0.9423 - val_acc: 0.5594\n",
      "Epoch 4/80\n",
      "200/200 [==============================] - 25s 125ms/step - loss: 0.9150 - acc: 0.5291 - val_loss: 0.9894 - val_acc: 0.5612\n",
      "Epoch 5/80\n",
      "200/200 [==============================] - 25s 125ms/step - loss: 0.9154 - acc: 0.5097 - val_loss: 0.9784 - val_acc: 0.5638\n",
      "Epoch 6/80\n",
      "200/200 [==============================] - 25s 125ms/step - loss: 0.9096 - acc: 0.5136 - val_loss: 0.9550 - val_acc: 0.5706\n",
      "Epoch 7/80\n",
      "200/200 [==============================] - 25s 125ms/step - loss: 0.8904 - acc: 0.5270 - val_loss: 0.9385 - val_acc: 0.5706\n",
      "Epoch 8/80\n",
      "200/200 [==============================] - 25s 126ms/step - loss: 0.8874 - acc: 0.5241 - val_loss: 0.9074 - val_acc: 0.5731\n",
      "Epoch 9/80\n",
      "200/200 [==============================] - 25s 125ms/step - loss: 0.8792 - acc: 0.5356 - val_loss: 0.8987 - val_acc: 0.5813\n",
      "Epoch 10/80\n",
      "200/200 [==============================] - 25s 126ms/step - loss: 0.8661 - acc: 0.5325 - val_loss: 0.8609 - val_acc: 0.5906\n",
      "Epoch 11/80\n",
      "200/200 [==============================] - 25s 125ms/step - loss: 0.8698 - acc: 0.5366 - val_loss: 0.8333 - val_acc: 0.5938\n",
      "Epoch 12/80\n",
      "200/200 [==============================] - 25s 126ms/step - loss: 0.8196 - acc: 0.5634 - val_loss: 0.8273 - val_acc: 0.6000\n",
      "Epoch 13/80\n",
      "200/200 [==============================] - 25s 125ms/step - loss: 0.8302 - acc: 0.5648 - val_loss: 0.8181 - val_acc: 0.6031\n",
      "Epoch 14/80\n",
      "200/200 [==============================] - 25s 125ms/step - loss: 0.8293 - acc: 0.5608 - val_loss: 0.8031 - val_acc: 0.6150\n",
      "Epoch 15/80\n",
      "200/200 [==============================] - 25s 125ms/step - loss: 0.8134 - acc: 0.5659 - val_loss: 0.8014 - val_acc: 0.6131\n",
      "Epoch 16/80\n",
      "200/200 [==============================] - 25s 125ms/step - loss: 0.7854 - acc: 0.5922 - val_loss: 0.7994 - val_acc: 0.6150\n",
      "Epoch 17/80\n",
      "200/200 [==============================] - 25s 126ms/step - loss: 0.8139 - acc: 0.5797 - val_loss: 0.7992 - val_acc: 0.6256\n",
      "Epoch 18/80\n",
      "200/200 [==============================] - 25s 125ms/step - loss: 0.7987 - acc: 0.5830 - val_loss: 0.8101 - val_acc: 0.6250\n",
      "Epoch 19/80\n",
      "200/200 [==============================] - 25s 125ms/step - loss: 0.7744 - acc: 0.5858 - val_loss: 0.8123 - val_acc: 0.6256\n",
      "Epoch 20/80\n",
      "200/200 [==============================] - 25s 125ms/step - loss: 0.7844 - acc: 0.5923 - val_loss: 0.8166 - val_acc: 0.6206\n",
      "Epoch 21/80\n",
      "200/200 [==============================] - 25s 125ms/step - loss: 0.7682 - acc: 0.6009 - val_loss: 0.8356 - val_acc: 0.6169\n",
      "Epoch 22/80\n",
      "200/200 [==============================] - 25s 125ms/step - loss: 0.7781 - acc: 0.5961 - val_loss: 0.8410 - val_acc: 0.6156\n",
      "Epoch 23/80\n",
      "200/200 [==============================] - 25s 126ms/step - loss: 0.7693 - acc: 0.5927 - val_loss: 0.8363 - val_acc: 0.6137\n",
      "Epoch 24/80\n",
      "200/200 [==============================] - 25s 125ms/step - loss: 0.7617 - acc: 0.6030 - val_loss: 0.8749 - val_acc: 0.6119\n",
      "Epoch 25/80\n",
      "200/200 [==============================] - 25s 125ms/step - loss: 0.7401 - acc: 0.6156 - val_loss: 0.8788 - val_acc: 0.6106\n",
      "Epoch 26/80\n",
      "200/200 [==============================] - 25s 125ms/step - loss: 0.7535 - acc: 0.6061 - val_loss: 0.8707 - val_acc: 0.6131\n",
      "Epoch 27/80\n",
      "200/200 [==============================] - 25s 125ms/step - loss: 0.7478 - acc: 0.6127 - val_loss: 0.8918 - val_acc: 0.6119\n",
      "Epoch 28/80\n",
      "200/200 [==============================] - 25s 125ms/step - loss: 0.7479 - acc: 0.6109 - val_loss: 0.8980 - val_acc: 0.6100\n",
      "Epoch 29/80\n",
      "200/200 [==============================] - 25s 125ms/step - loss: 0.7289 - acc: 0.6111 - val_loss: 0.8980 - val_acc: 0.6056\n",
      "Epoch 30/80\n",
      "200/200 [==============================] - 25s 125ms/step - loss: 0.7376 - acc: 0.6061 - val_loss: 0.8886 - val_acc: 0.6112\n",
      "Epoch 31/80\n",
      "200/200 [==============================] - 25s 125ms/step - loss: 0.7318 - acc: 0.6139 - val_loss: 0.8980 - val_acc: 0.6056\n",
      "Epoch 32/80\n",
      "200/200 [==============================] - 25s 125ms/step - loss: 0.7229 - acc: 0.6173 - val_loss: 0.8996 - val_acc: 0.6087\n",
      "Epoch 33/80\n",
      "200/200 [==============================] - 25s 125ms/step - loss: 0.7041 - acc: 0.6272 - val_loss: 0.9130 - val_acc: 0.6056\n",
      "Epoch 34/80\n",
      "200/200 [==============================] - 25s 125ms/step - loss: 0.7050 - acc: 0.6302 - val_loss: 0.8938 - val_acc: 0.6075\n",
      "Epoch 35/80\n",
      "200/200 [==============================] - 25s 125ms/step - loss: 0.7130 - acc: 0.6288 - val_loss: 0.8996 - val_acc: 0.6062\n",
      "Epoch 36/80\n",
      "200/200 [==============================] - 25s 125ms/step - loss: 0.7142 - acc: 0.6302 - val_loss: 0.9082 - val_acc: 0.6081\n",
      "Epoch 37/80\n",
      "200/200 [==============================] - 25s 125ms/step - loss: 0.6911 - acc: 0.6386 - val_loss: 0.8974 - val_acc: 0.6094\n"
     ]
    },
    {
     "name": "stdout",
     "output_type": "stream",
     "text": [
      "Epoch 38/80\n",
      "200/200 [==============================] - 25s 125ms/step - loss: 0.7176 - acc: 0.6222 - val_loss: 0.9095 - val_acc: 0.6119\n",
      "Epoch 39/80\n",
      "200/200 [==============================] - 25s 125ms/step - loss: 0.7072 - acc: 0.6270 - val_loss: 0.9028 - val_acc: 0.6075\n",
      "Epoch 40/80\n",
      "200/200 [==============================] - 25s 127ms/step - loss: 0.6997 - acc: 0.6317 - val_loss: 0.8906 - val_acc: 0.6119\n",
      "Epoch 41/80\n",
      "200/200 [==============================] - 25s 125ms/step - loss: 0.7086 - acc: 0.6289 - val_loss: 0.8949 - val_acc: 0.6144\n",
      "Epoch 42/80\n",
      "200/200 [==============================] - 25s 125ms/step - loss: 0.6903 - acc: 0.6397 - val_loss: 0.9075 - val_acc: 0.6100\n",
      "Epoch 43/80\n",
      "200/200 [==============================] - 25s 125ms/step - loss: 0.6954 - acc: 0.6377 - val_loss: 0.9083 - val_acc: 0.6087\n",
      "Epoch 44/80\n",
      "200/200 [==============================] - 25s 125ms/step - loss: 0.6908 - acc: 0.6394 - val_loss: 0.9032 - val_acc: 0.6100\n",
      "Epoch 45/80\n",
      "200/200 [==============================] - 25s 125ms/step - loss: 0.6864 - acc: 0.6375 - val_loss: 0.9119 - val_acc: 0.6112\n",
      "Epoch 46/80\n",
      "200/200 [==============================] - 25s 126ms/step - loss: 0.6877 - acc: 0.6391 - val_loss: 0.9072 - val_acc: 0.6137\n",
      "Epoch 47/80\n",
      "200/200 [==============================] - 25s 126ms/step - loss: 0.6905 - acc: 0.6361 - val_loss: 0.9034 - val_acc: 0.6131\n",
      "Epoch 48/80\n",
      "200/200 [==============================] - 25s 125ms/step - loss: 0.7029 - acc: 0.6286 - val_loss: 0.9070 - val_acc: 0.6106\n",
      "Epoch 49/80\n",
      "200/200 [==============================] - 25s 125ms/step - loss: 0.6806 - acc: 0.6438 - val_loss: 0.9065 - val_acc: 0.6106\n",
      "Epoch 50/80\n",
      "200/200 [==============================] - 25s 125ms/step - loss: 0.6891 - acc: 0.6397 - val_loss: 0.9087 - val_acc: 0.6100\n",
      "Epoch 51/80\n",
      "200/200 [==============================] - 25s 126ms/step - loss: 0.6803 - acc: 0.6442 - val_loss: 0.9029 - val_acc: 0.6119\n",
      "Epoch 52/80\n",
      "200/200 [==============================] - 25s 125ms/step - loss: 0.7034 - acc: 0.6319 - val_loss: 0.9068 - val_acc: 0.6087\n",
      "Epoch 53/80\n",
      "200/200 [==============================] - 25s 126ms/step - loss: 0.6890 - acc: 0.6370 - val_loss: 0.9073 - val_acc: 0.6112\n",
      "Epoch 54/80\n",
      "200/200 [==============================] - 25s 125ms/step - loss: 0.6675 - acc: 0.6484 - val_loss: 0.9141 - val_acc: 0.6106\n",
      "Epoch 55/80\n",
      "200/200 [==============================] - 25s 125ms/step - loss: 0.6728 - acc: 0.6516 - val_loss: 0.9199 - val_acc: 0.6106\n",
      "Epoch 56/80\n",
      "200/200 [==============================] - 25s 125ms/step - loss: 0.6791 - acc: 0.6472 - val_loss: 0.9075 - val_acc: 0.6112\n",
      "Epoch 57/80\n",
      "200/200 [==============================] - 25s 125ms/step - loss: 0.6829 - acc: 0.6366 - val_loss: 0.8988 - val_acc: 0.6137\n",
      "Epoch 58/80\n",
      "200/200 [==============================] - 25s 126ms/step - loss: 0.6925 - acc: 0.6417 - val_loss: 0.9086 - val_acc: 0.6119\n",
      "Epoch 59/80\n",
      "200/200 [==============================] - 25s 125ms/step - loss: 0.6721 - acc: 0.6450 - val_loss: 0.9046 - val_acc: 0.6131\n",
      "Epoch 60/80\n",
      "200/200 [==============================] - 25s 125ms/step - loss: 0.6927 - acc: 0.6348 - val_loss: 0.9157 - val_acc: 0.6094\n",
      "Epoch 61/80\n",
      "200/200 [==============================] - 25s 125ms/step - loss: 0.6816 - acc: 0.6414 - val_loss: 0.8975 - val_acc: 0.6125\n",
      "Epoch 62/80\n",
      "200/200 [==============================] - 25s 125ms/step - loss: 0.6642 - acc: 0.6442 - val_loss: 0.9016 - val_acc: 0.6119\n",
      "Epoch 63/80\n",
      "200/200 [==============================] - 25s 125ms/step - loss: 0.6753 - acc: 0.6455 - val_loss: 0.9013 - val_acc: 0.6112\n",
      "Epoch 64/80\n",
      "200/200 [==============================] - 25s 126ms/step - loss: 0.6751 - acc: 0.6408 - val_loss: 0.9124 - val_acc: 0.6081\n",
      "Epoch 65/80\n",
      "200/200 [==============================] - 25s 125ms/step - loss: 0.6819 - acc: 0.6361 - val_loss: 0.9034 - val_acc: 0.6131\n",
      "Epoch 66/80\n",
      "200/200 [==============================] - 25s 125ms/step - loss: 0.6861 - acc: 0.6388 - val_loss: 0.9010 - val_acc: 0.6119\n",
      "Epoch 67/80\n",
      "200/200 [==============================] - 25s 126ms/step - loss: 0.6831 - acc: 0.6427 - val_loss: 0.9024 - val_acc: 0.6100\n",
      "Epoch 68/80\n",
      "200/200 [==============================] - 25s 125ms/step - loss: 0.6791 - acc: 0.6427 - val_loss: 0.9187 - val_acc: 0.6069\n",
      "Epoch 69/80\n",
      "200/200 [==============================] - 25s 125ms/step - loss: 0.6946 - acc: 0.6342 - val_loss: 0.9082 - val_acc: 0.6112\n",
      "Epoch 70/80\n",
      "200/200 [==============================] - 25s 125ms/step - loss: 0.6683 - acc: 0.6519 - val_loss: 0.8995 - val_acc: 0.6144\n",
      "Epoch 71/80\n",
      "200/200 [==============================] - 25s 125ms/step - loss: 0.6677 - acc: 0.6472 - val_loss: 0.9046 - val_acc: 0.6144\n",
      "Epoch 72/80\n",
      "200/200 [==============================] - 25s 125ms/step - loss: 0.6884 - acc: 0.6317 - val_loss: 0.9107 - val_acc: 0.6119\n",
      "Epoch 73/80\n",
      "200/200 [==============================] - 25s 125ms/step - loss: 0.6719 - acc: 0.6419 - val_loss: 0.8975 - val_acc: 0.6131\n",
      "Epoch 74/80\n",
      "200/200 [==============================] - 25s 125ms/step - loss: 0.6703 - acc: 0.6423 - val_loss: 0.9063 - val_acc: 0.6119\n",
      "Epoch 75/80\n",
      "200/200 [==============================] - 25s 125ms/step - loss: 0.6753 - acc: 0.6481 - val_loss: 0.8988 - val_acc: 0.6144\n",
      "Epoch 76/80\n",
      "200/200 [==============================] - 25s 125ms/step - loss: 0.6644 - acc: 0.6450 - val_loss: 0.9056 - val_acc: 0.6125\n",
      "Epoch 77/80\n",
      "200/200 [==============================] - 25s 125ms/step - loss: 0.6750 - acc: 0.6405 - val_loss: 0.9079 - val_acc: 0.6087\n",
      "Epoch 78/80\n",
      "200/200 [==============================] - 25s 125ms/step - loss: 0.6834 - acc: 0.6441 - val_loss: 0.9205 - val_acc: 0.6075\n",
      "Epoch 79/80\n",
      "200/200 [==============================] - 25s 125ms/step - loss: 0.6793 - acc: 0.6430 - val_loss: 0.8999 - val_acc: 0.6119\n",
      "Epoch 80/80\n",
      "200/200 [==============================] - 25s 125ms/step - loss: 0.6622 - acc: 0.6489 - val_loss: 0.8984 - val_acc: 0.6094\n"
     ]
    }
   ],
   "source": [
    "mirrored_strategy = tf.distribute.MirroredStrategy(devices=[\"/gpu:0\", \"/gpu:1\"])\n",
    "with mirrored_strategy.scope():\n",
    "    steps = np.ceil(image_count / BATCH_SIZE) * epochs\n",
    "    lr_schedule = OneCycleScheduler(lr, steps)\n",
    "\n",
    "    optimizer = tf.keras.optimizers.SGD(lr=lr)\n",
    "    #optimizer = tf.keras.optimizers.RMSprop(lr=lr)\n",
    "    #optimizer = tf.keras.optimizers.Adam()\n",
    "    IMG_SHAPE = (IMG_HEIGHT, IMG_WIDTH, 3)\n",
    "    base_model = tf.keras.applications.Xception(input_shape=IMG_SHAPE,\n",
    "                                               include_top=False,\n",
    "                                               weights='imagenet')\n",
    "    base_model.trainable = False\n",
    "    global_average_layer = tf.keras.layers.GlobalAveragePooling2D()\n",
    "\n",
    "    batch_norm_1 = tf.keras.layers.BatchNormalization()\n",
    "    drop_out_1 = tf.keras.layers.Dropout(0.5)\n",
    "    dense_layer_1 = tf.keras.layers.Dense(1024,activation='relu')\n",
    "\n",
    "    batch_norm_2 = tf.keras.layers.BatchNormalization()\n",
    "    drop_out_2 = tf.keras.layers.Dropout(0.25)\n",
    "    prediction_layer = tf.keras.layers.Dense(2)\n",
    "\n",
    "    model = tf.keras.Sequential([\n",
    "      base_model,\n",
    "      global_average_layer,\n",
    "      \n",
    "      batch_norm_1,\n",
    "      drop_out_1,\n",
    "      dense_layer_1,\n",
    "      \n",
    "      batch_norm_2,\n",
    "      drop_out_2,\n",
    "      prediction_layer\n",
    "    ])\n",
    "\n",
    "    \n",
    "    model.compile(optimizer=optimizer,\n",
    "              loss=tf.keras.losses.BinaryCrossentropy(from_logits=True),\n",
    "              metrics=['acc'])\n",
    "    \n",
    "    model.summary()\n",
    "    \n",
    "    history = model.fit(train_ds,\n",
    "                    epochs=epochs,\n",
    "                    validation_data=valid_ds, \n",
    "                    steps_per_epoch=STEPS_PER_EPOCH, \n",
    "                    validation_steps=VAL_STEPS_PER_EPOCH,\n",
    "                    callbacks=[lr_schedule])"
   ]
  },
  {
   "cell_type": "code",
   "execution_count": null,
   "metadata": {},
   "outputs": [],
   "source": []
  },
  {
   "cell_type": "code",
   "execution_count": 19,
   "metadata": {},
   "outputs": [
    {
     "data": {
      "image/png": "[encoded data removed]",
      "text/plain": [
       "<Figure size 432x288 with 2 Axes>"
      ]
     },
     "metadata": {
      "needs_background": "light"
     },
     "output_type": "display_data"
    }
   ],
   "source": [
    "lr_schedule.plot()"
   ]
  },
  {
   "cell_type": "code",
   "execution_count": null,
   "metadata": {},
   "outputs": [],
   "source": []
  },
  {
   "cell_type": "code",
   "execution_count": 20,
   "metadata": {},
   "outputs": [
    {
     "data": {
      "image/png": "[encoded data removed]",
      "text/plain": [
       "<Figure size 576x576 with 2 Axes>"
      ]
     },
     "metadata": {
      "needs_background": "light"
     },
     "output_type": "display_data"
    }
   ],
   "source": [
    "acc = history.history['acc']\n",
    "val_acc = history.history['val_acc']\n",
    "\n",
    "loss=history.history['loss']\n",
    "val_loss=history.history['val_loss']\n",
    "\n",
    "epochs_range = range(epochs)\n",
    "\n",
    "plt.figure(figsize=(8, 8))\n",
    "plt.subplot(1, 2, 1)\n",
    "plt.plot(epochs_range, acc, label='Training Accuracy')\n",
    "plt.plot(epochs_range, val_acc, label='Validation Accuracy')\n",
    "plt.legend(loc='lower right')\n",
    "plt.title('Training and Validation Accuracy')\n",
    "\n",
    "plt.subplot(1, 2, 2)\n",
    "plt.plot(epochs_range, loss, label='Training Loss')\n",
    "plt.plot(epochs_range, val_loss, label='Validation Loss')\n",
    "plt.legend(loc='upper right')\n",
    "plt.title('Training and Validation Loss')\n",
    "plt.show()"
   ]
  },
  {
   "cell_type": "code",
   "execution_count": null,
   "metadata": {},
   "outputs": [],
   "source": []
  }
 ],
 "metadata": {
  "kernelspec": {
   "display_name": "Python [conda env:tf-gpu] *",
   "language": "python",
   "name": "conda-env-tf-gpu-py"
  },
  "language_info": {
   "codemirror_mode": {
    "name": "ipython",
    "version": 3
   },
   "file_extension": ".py",
   "mimetype": "text/x-python",
   "name": "python",
   "nbconvert_exporter": "python",
   "pygments_lexer": "ipython3",
   "version": "3.7.6"
  }
 },
 "nbformat": 4,
 "nbformat_minor": 2
}
